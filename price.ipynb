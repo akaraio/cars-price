{
 "cells": [
  {
   "cell_type": "code",
   "execution_count": null,
   "metadata": {
    "id": "9HKCN-6C1ejO"
   },
   "outputs": [],
   "source": [
    "import pandas as pd\n",
    "import numpy as np\n",
    "import matplotlib.pyplot as plt\n",
    "import seaborn as sns\n",
    "\n",
    "from scipy import stats\n",
    "from sklearn.model_selection import train_test_split\n",
    "from sklearn.impute import SimpleImputer\n",
    "from sklearn.preprocessing import OneHotEncoder, MinMaxScaler, StandardScaler\n",
    "from sklearn.compose import ColumnTransformer\n",
    "from sklearn.pipeline import Pipeline\n",
    "from sklearn.ensemble import RandomForestRegressor\n",
    "\n",
    "from sklearn.metrics import r2_score, mean_absolute_error, mean_squared_error\n",
    "from sklearn.model_selection import cross_val_score"
   ]
  },
  {
   "cell_type": "code",
   "execution_count": null,
   "metadata": {
    "colab": {
     "base_uri": "https://localhost:8080/",
     "height": 513
    },
    "executionInfo": {
     "elapsed": 9,
     "status": "ok",
     "timestamp": 1733309254156,
     "user": {
      "displayName": "akara",
      "userId": "03294495074658875410"
     },
     "user_tz": -120
    },
    "id": "Kl_ed_DQ1Q2d",
    "outputId": "77c72234-9b04-4e5e-8bab-153126183674"
   },
   "outputs": [],
   "source": [
    "df = pd.read_csv('data')\n",
    "df"
   ]
  },
  {
   "cell_type": "code",
   "execution_count": null,
   "metadata": {
    "colab": {
     "base_uri": "https://localhost:8080/"
    },
    "executionInfo": {
     "elapsed": 6,
     "status": "ok",
     "timestamp": 1733309254475,
     "user": {
      "displayName": "akara",
      "userId": "03294495074658875410"
     },
     "user_tz": -120
    },
    "id": "-NJ8UTjd3QiK",
    "outputId": "9456c156-d5a9-44ce-f69a-4425ef7418e5"
   },
   "outputs": [],
   "source": [
    "df['car_ID'].nunique()"
   ]
  },
  {
   "cell_type": "code",
   "execution_count": null,
   "metadata": {
    "colab": {
     "base_uri": "https://localhost:8080/",
     "height": 544
    },
    "executionInfo": {
     "elapsed": 4,
     "status": "ok",
     "timestamp": 1733309254475,
     "user": {
      "displayName": "akara",
      "userId": "03294495074658875410"
     },
     "user_tz": -120
    },
    "id": "NcqtocaD3Vdm",
    "outputId": "2800ad18-5a2c-44c9-b17e-40afb3a035cb"
   },
   "outputs": [],
   "source": [
    "df = pd.read_csv('data', index_col='car_ID')\n",
    "df"
   ]
  },
  {
   "cell_type": "code",
   "execution_count": null,
   "metadata": {
    "colab": {
     "base_uri": "https://localhost:8080/"
    },
    "executionInfo": {
     "elapsed": 5,
     "status": "ok",
     "timestamp": 1733309254776,
     "user": {
      "displayName": "akara",
      "userId": "03294495074658875410"
     },
     "user_tz": -120
    },
    "id": "5Kb2aCPT11zu",
    "outputId": "dbd28bb2-2410-4ae2-ec8f-71220aac1ef0"
   },
   "outputs": [],
   "source": [
    "df.info()"
   ]
  },
  {
   "cell_type": "code",
   "execution_count": null,
   "metadata": {
    "colab": {
     "base_uri": "https://localhost:8080/",
     "height": 520
    },
    "executionInfo": {
     "elapsed": 4,
     "status": "ok",
     "timestamp": 1733309254776,
     "user": {
      "displayName": "akara",
      "userId": "03294495074658875410"
     },
     "user_tz": -120
    },
    "id": "ZJYXgI8n14rQ",
    "outputId": "ff722874-6de8-4d1e-f3e1-1b60bcb4bf37"
   },
   "outputs": [],
   "source": [
    "df.describe().T"
   ]
  },
  {
   "cell_type": "code",
   "execution_count": null,
   "metadata": {
    "colab": {
     "base_uri": "https://localhost:8080/",
     "height": 868
    },
    "executionInfo": {
     "elapsed": 6,
     "status": "ok",
     "timestamp": 1733309255045,
     "user": {
      "displayName": "akara",
      "userId": "03294495074658875410"
     },
     "user_tz": -120
    },
    "id": "bkyNiUWY2A4_",
    "outputId": "f36257c8-fba8-488c-b989-79fe60b12fe9"
   },
   "outputs": [],
   "source": [
    "df.isnull().sum().sort_values(ascending=False)"
   ]
  },
  {
   "cell_type": "code",
   "execution_count": null,
   "metadata": {
    "colab": {
     "base_uri": "https://localhost:8080/",
     "height": 868
    },
    "executionInfo": {
     "elapsed": 4,
     "status": "ok",
     "timestamp": 1733309255045,
     "user": {
      "displayName": "akara",
      "userId": "03294495074658875410"
     },
     "user_tz": -120
    },
    "id": "5091v0Xz7ub3",
    "outputId": "7549d9ce-1f2e-42f6-ee31-f661b492b094"
   },
   "outputs": [],
   "source": [
    "df.nunique().sort_values(ascending=False)"
   ]
  },
  {
   "cell_type": "code",
   "execution_count": null,
   "metadata": {
    "colab": {
     "base_uri": "https://localhost:8080/",
     "height": 853
    },
    "executionInfo": {
     "elapsed": 4284,
     "status": "ok",
     "timestamp": 1733309259614,
     "user": {
      "displayName": "akara",
      "userId": "03294495074658875410"
     },
     "user_tz": -120
    },
    "id": "T_CElgDQ2NPv",
    "outputId": "7da475d1-49b4-4b75-9ab0-70c386efe5f0"
   },
   "outputs": [],
   "source": [
    "df.hist(grid=False, bins=8, figsize=(16, 10));"
   ]
  },
  {
   "cell_type": "code",
   "execution_count": null,
   "metadata": {
    "colab": {
     "base_uri": "https://localhost:8080/",
     "height": 959
    },
    "executionInfo": {
     "elapsed": 1544,
     "status": "ok",
     "timestamp": 1733309261156,
     "user": {
      "displayName": "akara",
      "userId": "03294495074658875410"
     },
     "user_tz": -120
    },
    "id": "p3wN_ywR3zJ_",
    "outputId": "c5aa62ba-5ece-4516-a3af-331d5227761b"
   },
   "outputs": [],
   "source": [
    "plt.figure(figsize=(16,10))\n",
    "sns.heatmap(df.corr(numeric_only=True), annot = True)"
   ]
  },
  {
   "cell_type": "code",
   "execution_count": null,
   "metadata": {
    "id": "UAxXMN8f3jw-"
   },
   "outputs": [],
   "source": [
    "df_copy = df.copy()"
   ]
  },
  {
   "cell_type": "code",
   "execution_count": null,
   "metadata": {
    "id": "tFGYS5NH5lns"
   },
   "outputs": [],
   "source": [
    "num_cols = [col for col in df_copy.columns if pd.api.types.is_numeric_dtype(df_copy[col]) and col != 'price']\n",
    "cat_cols = [col for col in df_copy.columns if col not in num_cols and col != 'price']"
   ]
  },
  {
   "cell_type": "code",
   "execution_count": null,
   "metadata": {
    "colab": {
     "base_uri": "https://localhost:8080/"
    },
    "executionInfo": {
     "elapsed": 197,
     "status": "ok",
     "timestamp": 1733309320908,
     "user": {
      "displayName": "akara",
      "userId": "03294495074658875410"
     },
     "user_tz": -120
    },
    "id": "8XT5tkIH6aQm",
    "outputId": "cddc21c6-9240-40c3-aaf9-da47c9ce9aef"
   },
   "outputs": [],
   "source": [
    "len(num_cols), len(cat_cols), df_copy.shape[1]"
   ]
  },
  {
   "cell_type": "code",
   "execution_count": null,
   "metadata": {
    "id": "i3jNSFPc5EEX"
   },
   "outputs": [],
   "source": [
    "df_copy = df_copy[(np.abs(stats.zscore(df_copy[num_cols])) < 3).all(axis=1)]"
   ]
  },
  {
   "cell_type": "code",
   "execution_count": null,
   "metadata": {
    "colab": {
     "base_uri": "https://localhost:8080/"
    },
    "executionInfo": {
     "elapsed": 2,
     "status": "ok",
     "timestamp": 1733309323224,
     "user": {
      "displayName": "akara",
      "userId": "03294495074658875410"
     },
     "user_tz": -120
    },
    "id": "f3Hyqp0J6M4P",
    "outputId": "a2cf1c1f-30fb-45ac-f08f-4b6e069ed5b5"
   },
   "outputs": [],
   "source": [
    "df.shape[0] - df_copy.shape[0]"
   ]
  },
  {
   "cell_type": "code",
   "execution_count": null,
   "metadata": {
    "id": "6bQ-7g8p6msT"
   },
   "outputs": [],
   "source": [
    "# sns.pairplot(df_copy)"
   ]
  },
  {
   "cell_type": "code",
   "execution_count": null,
   "metadata": {
    "colab": {
     "base_uri": "https://localhost:8080/",
     "height": 398
    },
    "executionInfo": {
     "elapsed": 208,
     "status": "ok",
     "timestamp": 1733309328173,
     "user": {
      "displayName": "akara",
      "userId": "03294495074658875410"
     },
     "user_tz": -120
    },
    "id": "A9KLQ4Xj7RP7",
    "outputId": "a273f74c-8cab-41e6-ed1d-1be350ba3c68"
   },
   "outputs": [],
   "source": [
    "df_copy[cat_cols].nunique()"
   ]
  },
  {
   "cell_type": "code",
   "execution_count": null,
   "metadata": {
    "id": "7meN9voT909s"
   },
   "outputs": [],
   "source": [
    "df_copy[['brand', 'model']] = df_copy['CarName'].str.split(' ', n=1, expand=True)"
   ]
  },
  {
   "cell_type": "code",
   "execution_count": null,
   "metadata": {
    "id": "hoxuRPE_-PPD"
   },
   "outputs": [],
   "source": [
    "df_copy['model'] = df_copy['model'].str.lower().replace(' ', '')\n",
    "df_copy['model'] = df_copy['model'].str.replace('(', '')\n",
    "df_copy['model'] = df_copy['model'].str.replace(')', '')\n",
    "df_copy = df_copy.drop(['CarName', 'model'], axis=1)"
   ]
  },
  {
   "cell_type": "code",
   "execution_count": null,
   "metadata": {
    "colab": {
     "base_uri": "https://localhost:8080/",
     "height": 931
    },
    "executionInfo": {
     "elapsed": 299,
     "status": "ok",
     "timestamp": 1733309372428,
     "user": {
      "displayName": "akara",
      "userId": "03294495074658875410"
     },
     "user_tz": -120
    },
    "id": "lHw0998v_quu",
    "outputId": "1f210639-b507-4765-9294-b0b20faaeb97"
   },
   "outputs": [],
   "source": [
    "df_copy['brand'].value_counts()"
   ]
  },
  {
   "cell_type": "code",
   "execution_count": null,
   "metadata": {
    "colab": {
     "base_uri": "https://localhost:8080/",
     "height": 527
    },
    "executionInfo": {
     "elapsed": 228,
     "status": "ok",
     "timestamp": 1733309378539,
     "user": {
      "displayName": "akara",
      "userId": "03294495074658875410"
     },
     "user_tz": -120
    },
    "id": "oI-sdAVGCdiz",
    "outputId": "41b663aa-e7be-4f6f-cf99-b0d31ffbe728"
   },
   "outputs": [],
   "source": [
    "df_copy"
   ]
  },
  {
   "cell_type": "code",
   "execution_count": null,
   "metadata": {
    "colab": {
     "base_uri": "https://localhost:8080/",
     "height": 475
    },
    "executionInfo": {
     "elapsed": 209,
     "status": "ok",
     "timestamp": 1733309424077,
     "user": {
      "displayName": "akara",
      "userId": "03294495074658875410"
     },
     "user_tz": -120
    },
    "id": "irAvO3pnCLYe",
    "outputId": "3313febc-2697-4c32-da92-c761910b6aec"
   },
   "outputs": [],
   "source": [
    "cat_cols = [col for col in df_copy.columns if col not in num_cols and col != 'price' and col != 'CarName']\n",
    "df_copy = pd.get_dummies(df_copy, columns=cat_cols, drop_first=True)\n",
    "df_copy"
   ]
  },
  {
   "cell_type": "code",
   "execution_count": null,
   "metadata": {
    "id": "zHYhIit_PvAl"
   },
   "outputs": [],
   "source": [
    "X = df_copy.drop('price', axis=1)\n",
    "y = df_copy['price']\n",
    "X_train, X_test, y_train, y_test = train_test_split(X, y, test_size=0.2, shuffle=True, random_state=42)"
   ]
  },
  {
   "cell_type": "code",
   "execution_count": null,
   "metadata": {
    "id": "Me-NnVoJA3Yt"
   },
   "outputs": [],
   "source": [
    "scaler = StandardScaler()\n",
    "preprocessor = ColumnTransformer([('numeric', scaler, num_cols)], remainder='passthrough')\n",
    "\n",
    "X_train = preprocessor.fit_transform(X_train)\n",
    "X_test = preprocessor.transform(X_test)"
   ]
  },
  {
   "cell_type": "code",
   "execution_count": null,
   "metadata": {
    "colab": {
     "base_uri": "https://localhost:8080/",
     "height": 80
    },
    "executionInfo": {
     "elapsed": 433,
     "status": "ok",
     "timestamp": 1733309429587,
     "user": {
      "displayName": "akara",
      "userId": "03294495074658875410"
     },
     "user_tz": -120
    },
    "id": "ROFMFBSSQFkk",
    "outputId": "e3ec70d3-8a7a-4e2b-e56a-db255d64f50e"
   },
   "outputs": [],
   "source": [
    "model = RandomForestRegressor(random_state=42)\n",
    "model.fit(X_train, y_train)"
   ]
  },
  {
   "cell_type": "code",
   "execution_count": null,
   "metadata": {
    "id": "40MDLUeeQJum"
   },
   "outputs": [],
   "source": [
    "y_pred = model.predict(X_test)"
   ]
  },
  {
   "cell_type": "code",
   "execution_count": null,
   "metadata": {
    "colab": {
     "base_uri": "https://localhost:8080/"
    },
    "executionInfo": {
     "elapsed": 211,
     "status": "ok",
     "timestamp": 1733309432685,
     "user": {
      "displayName": "akara",
      "userId": "03294495074658875410"
     },
     "user_tz": -120
    },
    "id": "WazAwJ2WQO0a",
    "outputId": "b051cfc5-2b18-41d7-c37c-16d925501674"
   },
   "outputs": [],
   "source": [
    "r2_score(y_test, y_pred)"
   ]
  },
  {
   "cell_type": "code",
   "execution_count": null,
   "metadata": {
    "colab": {
     "base_uri": "https://localhost:8080/"
    },
    "executionInfo": {
     "elapsed": 194,
     "status": "ok",
     "timestamp": 1733309433442,
     "user": {
      "displayName": "akara",
      "userId": "03294495074658875410"
     },
     "user_tz": -120
    },
    "id": "oQQ24CDLQv8m",
    "outputId": "ffa91391-92b7-4e73-a82a-55f59c97db5b"
   },
   "outputs": [],
   "source": [
    "mean_absolute_error(y_test, y_pred)"
   ]
  },
  {
   "cell_type": "code",
   "execution_count": null,
   "metadata": {
    "colab": {
     "base_uri": "https://localhost:8080/"
    },
    "executionInfo": {
     "elapsed": 197,
     "status": "ok",
     "timestamp": 1733309434736,
     "user": {
      "displayName": "akara",
      "userId": "03294495074658875410"
     },
     "user_tz": -120
    },
    "id": "M_nElYjvQzWR",
    "outputId": "2b175b1a-98b1-4f25-a0b6-41151413dedb"
   },
   "outputs": [],
   "source": [
    "mean_squared_error(y_test, y_pred)"
   ]
  },
  {
   "cell_type": "code",
   "execution_count": null,
   "metadata": {
    "id": "GdnMrntZR2aM"
   },
   "outputs": [],
   "source": [
    "import pickle\n",
    "\n",
    "pickle.dump(model, open(\"data\", \"wb\"))"
   ]
  }
 ],
 "metadata": {
  "colab": {
   "authorship_tag": "ABX9TyMW3OX7jjMk2Zt+pYR5wDrJ",
   "mount_file_id": "15XyHsFOsrkx_a9Xw9hpnnw1Wkr3Pa6zK",
   "provenance": []
  },
  "kernelspec": {
   "display_name": "Python 3",
   "name": "python3"
  },
  "language_info": {
   "name": "python"
  }
 },
 "nbformat": 4,
 "nbformat_minor": 0
}
